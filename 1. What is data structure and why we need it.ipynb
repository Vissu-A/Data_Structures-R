{
 "cells": [
  {
   "cell_type": "markdown",
   "id": "76ec4cee",
   "metadata": {},
   "source": [
    "**What is data structure?**"
   ]
  },
  {
   "cell_type": "markdown",
   "id": "ead607de",
   "metadata": {},
   "source": [
    "A data structure is a way of organizing the data so, that it can be used effectively."
   ]
  },
  {
   "cell_type": "markdown",
   "id": "ea5dad48",
   "metadata": {},
   "source": [
    "it's a way of organizing the data in some fashion or sequence so that, it can be accessed, quired or updated quickly and easily."
   ]
  },
  {
   "cell_type": "markdown",
   "id": "ee16e200",
   "metadata": {},
   "source": [
    "<br>"
   ]
  },
  {
   "cell_type": "markdown",
   "id": "9c1d0abe",
   "metadata": {},
   "source": [
    "**Why we need data structures?**"
   ]
  },
  {
   "cell_type": "markdown",
   "id": "d32e1ee3",
   "metadata": {},
   "source": [
    "data structures are the back bone behind the effciency or performance of any application or software.<br>\n",
    "data structures can make code cleaner and more readable so, that we can understand easily.<br>\n",
    "data structures provides best ways to handle large amount of inputs and ways to proicess them quickly with less utilization of hardware components of the device like, RAM, ROM and CPU."
   ]
  },
  {
   "cell_type": "code",
   "execution_count": null,
   "id": "4d9b01bb",
   "metadata": {},
   "outputs": [],
   "source": []
  }
 ],
 "metadata": {
  "kernelspec": {
   "display_name": "Python 3",
   "language": "python",
   "name": "python3"
  },
  "language_info": {
   "codemirror_mode": {
    "name": "ipython",
    "version": 3
   },
   "file_extension": ".py",
   "mimetype": "text/x-python",
   "name": "python",
   "nbconvert_exporter": "python",
   "pygments_lexer": "ipython3",
   "version": "3.6.5"
  }
 },
 "nbformat": 4,
 "nbformat_minor": 5
}
