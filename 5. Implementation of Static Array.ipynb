{
 "cells": [
  {
   "cell_type": "code",
   "execution_count": 51,
   "id": "c091182f",
   "metadata": {},
   "outputs": [],
   "source": [
    "# Create a class for array with __init__ constructor with 2 arguments self and size.\n",
    "\n",
    "class Array:\n",
    "    def __init__(self, size):\n",
    "        self.size = size\n",
    "        self.elements = [0 for i in range(size)]\n",
    "        \n",
    "    def __str__(self):\n",
    "        return self.elements\n",
    "    \n",
    "    def length(self):\n",
    "        return list(map(lambda x: 1 if x else 0, self.elements)).count(1)\n",
    "    \n",
    "    def insertAtFirst(self, no):\n",
    "        for i in :\n",
    "            print(i)"
   ]
  },
  {
   "cell_type": "code",
   "execution_count": 52,
   "id": "11eaeaf0",
   "metadata": {},
   "outputs": [
    {
     "data": {
      "text/plain": [
       "0"
      ]
     },
     "execution_count": 52,
     "metadata": {},
     "output_type": "execute_result"
    }
   ],
   "source": [
    "a = Array(5)\n",
    "a.length()"
   ]
  },
  {
   "cell_type": "code",
   "execution_count": null,
   "id": "ebac8a18",
   "metadata": {},
   "outputs": [],
   "source": []
  },
  {
   "cell_type": "code",
   "execution_count": 53,
   "id": "87437cbf",
   "metadata": {},
   "outputs": [
    {
     "name": "stdout",
     "output_type": "stream",
     "text": [
      "5\n",
      "4\n",
      "3\n",
      "2\n",
      "1\n"
     ]
    }
   ],
   "source": [
    "a.insertAtFirst(2)"
   ]
  },
  {
   "cell_type": "code",
   "execution_count": null,
   "id": "8024124c",
   "metadata": {},
   "outputs": [],
   "source": []
  }
 ],
 "metadata": {
  "kernelspec": {
   "display_name": "Python 3",
   "language": "python",
   "name": "python3"
  },
  "language_info": {
   "codemirror_mode": {
    "name": "ipython",
    "version": 3
   },
   "file_extension": ".py",
   "mimetype": "text/x-python",
   "name": "python",
   "nbconvert_exporter": "python",
   "pygments_lexer": "ipython3",
   "version": "3.6.5"
  }
 },
 "nbformat": 4,
 "nbformat_minor": 5
}
