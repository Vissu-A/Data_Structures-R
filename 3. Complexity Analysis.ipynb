{
 "cells": [
  {
   "cell_type": "markdown",
   "metadata": {},
   "source": [
    "# Why we need complexity analysis?"
   ]
  },
  {
   "cell_type": "markdown",
   "metadata": {},
   "source": [
    "> **In mathematics there are many ways to solve the given problem, We have to find out which is the best way to solve the problem.**<br>simillarly in computer science, there are many Data Structures and Algorithms to impliment the given requirement. we need to find out which is the best Data Structure/Algorithm to accomplish the give requirement."
   ]
  },
  {
   "cell_type": "markdown",
   "metadata": {},
   "source": [
    "# How can we say which the best Data Structure/Algorithm?"
   ]
  },
  {
   "cell_type": "markdown",
   "metadata": {},
   "source": [
    "> We can find out the best Data Structure/Algorithm based on the performance / efficiency."
   ]
  },
  {
   "cell_type": "markdown",
   "metadata": {},
   "source": [
    "# How can we measure the performance / efficiency?"
   ]
  },
  {
   "cell_type": "markdown",
   "metadata": {},
   "source": [
    "> we can measure the performance / efficiency using metrics."
   ]
  },
  {
   "cell_type": "markdown",
   "metadata": {},
   "source": [
    "# What are the metrics used to measure/rate the performance?"
   ]
  },
  {
   "cell_type": "markdown",
   "metadata": {},
   "source": [
    "> The performance/efficiency of any data structure or algorithm is measured/rated based on two metrics.\n",
    ">> 1. Time Complexity\n",
    ">> 2. Space Complexity"
   ]
  },
  {
   "cell_type": "markdown",
   "metadata": {},
   "source": [
    "# What is Time Complexity?"
   ]
  },
  {
   "cell_type": "markdown",
   "metadata": {},
   "source": [
    "> Time complexity means the time taken by the any data structure or algorithm to accomplish the given task."
   ]
  },
  {
   "cell_type": "markdown",
   "metadata": {},
   "source": [
    "# What is Space Complexity?"
   ]
  },
  {
   "cell_type": "markdown",
   "metadata": {},
   "source": [
    "> Space complexity means the amount of space/memory needed by any data structure or algorithm to accomplish the given task"
   ]
  },
  {
   "cell_type": "markdown",
   "metadata": {},
   "source": [
    "**Note:** However, time and space complexity depend on various other factors like hardware, operating system, processor etc. But we don’t consider these factors while calculating the complexity of a data structure or algorithm."
   ]
  },
  {
   "cell_type": "markdown",
   "metadata": {},
   "source": [
    "<br>"
   ]
  },
  {
   "cell_type": "markdown",
   "metadata": {},
   "source": [
    "# Order of growth"
   ]
  },
  {
   "cell_type": "markdown",
   "metadata": {},
   "source": [
    "> As the name suggest it tells us in which order the execution time or space/memory needed by a data structure or algorithm is increasing as we scale up the input.<br>\n",
    ">> **Example:** the execution time of an algorithm is increasing with the increasing in the input.<br>\n",
    "If input = 10   ==> execution time = 100 milli seconds.<br>\n",
    "If input = 20   ==> execution time = 200 milli seconds.<br>\n",
    "Here the execution time is increasing linearly with the input. So, order of growth is linear. The same will be applicable for space complexity also."
   ]
  },
  {
   "cell_type": "markdown",
   "metadata": {},
   "source": [
    "<br>"
   ]
  },
  {
   "cell_type": "markdown",
   "metadata": {},
   "source": [
    "# How can we represent the time and space complexity?"
   ]
  },
  {
   "cell_type": "markdown",
   "metadata": {},
   "source": [
    "> To represent the time and space complexity mathematically we will use asymptotic notations. Asymptotic notations are mathematical tools to represent time and space complexity of any data structure or algorithm.\n",
    "We will use following 3 asymptotic notations most frequently.\n",
    "1.\tBig-O Notation.                  ===>   upper bound\n",
    "2.\tTheta(Ɵ) Notation.             ===>   in between upper and lower bound\n",
    "3.\tOmega(Ω) Notation.          ===>   lower bound\n",
    "\n",
    "> **Big-O Notation:**<br>\n",
    ">> Big-O notation represents the upper bound of the running time of an algorithm or data structure. This means it gives the maximum time or space taken by an algorithm or data structure.<br><br>\n",
    "Thus, it gives the worst-case complexity of an algorithm.\n",
    "\n",
    "> **Omega Notation:**<br>\n",
    ">> Omega notation represents the lower bound of the running time of an algorithm or data structure. This means it gives the minimum time or space taken by an algorithm or data structure.<br><br>\n",
    "Thus, it provides best case complexity of an algorithm.\n",
    "\n",
    "> **Theta Notation:**<br>\n",
    ">> Theta Notation represents the middle bound of the running time of an algorithm or data structure. This means it gives the average time or space taken by an algorithm or data structure.<br><br>\n",
    "Thus, it provides average case complexity of an algorithm.\n",
    "\n",
    "> **Note:**Mostly, we are interested in finding the maximum time required by an algorithm or data structure (i.e., Big-O Notation).\n",
    "If the worst-case complexity / maximum time required is less then it’s more efficient.\n"
   ]
  },
  {
   "cell_type": "markdown",
   "metadata": {},
   "source": [
    "**Most commonly used time complexity equations.**<br>\n",
    "We will use 6-time complexity equations more frequently.\n",
    "> O (1)               ===>     Constant Time Complexity (Best)<br>\n",
    "> O (n)               ===>     Linear Time Complexity<br>\n",
    "> O (log n)         ===>     Logarithmic Time Complexity<br>\n",
    "> O (n log n)      ===>     Logarithmic Time Complexity<br>\n",
    "> O (n2)              ===>     Exponential Time Complexity<br>\n",
    "> O (2n)              ===>     Exponential Time Complexity<br>\n",
    "> O (n!)              ===>     Factorial Time Complexity<br>\n",
    "\n",
    "If we arrange the equations based on time complexity from best to worst.<br>\n",
    "1. O (1)         ===    Rank 1 (Best)\n",
    "2. O (log n)   ===    Rank 2 (Better)\n",
    "3. O (n)         ===    Rank 3 (Good)<br>\n",
    "Not good to use after Rank 3\n",
    "4. O (n log n) ===   Rank 4 (Bad)\n",
    "5. O (n2)        ===   Rank 5 (Very bad)\n",
    "6. O (2n)        ===   Rank 6 (Very bad)\n",
    "7. O (n!)        ===   Rank 7 (Worst)\n",
    "\n",
    "The value in the parenthesis represents the number of operations to perform before the function can finish.\n",
    "\n",
    "In O (1) time complexity the function has to perform only 1 operation, no matter how big or small the input is.\n",
    "\n",
    "In O(n) time complexity the function has to perform ‘n’ operations. So, operations has to perform will increase with the size of input.\n"
   ]
  },
  {
   "cell_type": "code",
   "execution_count": null,
   "metadata": {},
   "outputs": [],
   "source": []
  }
 ],
 "metadata": {
  "kernelspec": {
   "display_name": "Python 3",
   "language": "python",
   "name": "python3"
  },
  "language_info": {
   "codemirror_mode": {
    "name": "ipython",
    "version": 3
   },
   "file_extension": ".py",
   "mimetype": "text/x-python",
   "name": "python",
   "nbconvert_exporter": "python",
   "pygments_lexer": "ipython3",
   "version": "3.6.5"
  }
 },
 "nbformat": 4,
 "nbformat_minor": 4
}
