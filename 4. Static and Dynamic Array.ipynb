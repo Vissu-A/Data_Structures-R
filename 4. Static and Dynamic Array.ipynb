{
 "cells": [
  {
   "cell_type": "markdown",
   "id": "116b5664",
   "metadata": {},
   "source": [
    "**What is an Array?**"
   ]
  },
  {
   "cell_type": "markdown",
   "id": "fee0212b",
   "metadata": {},
   "source": [
    "An array is a series/collection of containers, each container will represents single unique memory location.<br>\n",
    "An array is a collection of homogeniouis items or elements that are stored at contiguous memory locations.<br>\n",
    "Homogenious means the elements in an array should be same data type."
   ]
  },
  {
   "cell_type": "markdown",
   "id": "025d68c5",
   "metadata": {},
   "source": [
    "One best practical example for array is Train."
   ]
  },
  {
   "cell_type": "markdown",
   "id": "06eb7d53",
   "metadata": {},
   "source": [
    "Arrays are indexable, this means each memeory location can be identified/represented by one unique number."
   ]
  },
  {
   "cell_type": "markdown",
   "id": "e3cc58e6",
   "metadata": {},
   "source": [
    "Each array will have 3 properties associated.<br>\n",
    "1.\tName of the array<br>\n",
    "2.\tType of the array<br>\n",
    "3.\tSize of the array<br>\n",
    "\n",
    "Ex:<br>\n",
    "> Names = [‘vissu’, ‘dinesh’, ‘dileep’]<br>\n",
    "> Salaries = [25000, 35000, 30000"
   ]
  },
  {
   "cell_type": "markdown",
   "id": "6cfc4598",
   "metadata": {},
   "source": [
    "<br>"
   ]
  },
  {
   "cell_type": "markdown",
   "id": "8187d574",
   "metadata": {},
   "source": [
    "**What is Static Array?**"
   ]
  },
  {
   "cell_type": "markdown",
   "id": "68edef1e",
   "metadata": {},
   "source": [
    "A static array is nothing but an array with fixed length of homogenious elements."
   ]
  },
  {
   "cell_type": "markdown",
   "id": "c7db87af",
   "metadata": {},
   "source": [
    "<br>"
   ]
  },
  {
   "cell_type": "markdown",
   "id": "78850db1",
   "metadata": {},
   "source": [
    "**What is Dynamic Array?**"
   ]
  },
  {
   "cell_type": "markdown",
   "id": "ae9b6bbd",
   "metadata": {},
   "source": [
    "Dynamic array is nothing but an array with increased size."
   ]
  },
  {
   "cell_type": "markdown",
   "id": "c3782b67",
   "metadata": {},
   "source": [
    "<br>"
   ]
  },
  {
   "cell_type": "markdown",
   "id": "e721f19a",
   "metadata": {},
   "source": [
    "**Parallel arrays**<br>\n",
    "Parallel arrays are nothing but two or more arrays having same size and each element in an array relate to the element in other array at same location. If we look at above two arrays names and salaries, we can say that vissu having salary of 25000. This means they both elements are related with each other.\n"
   ]
  },
  {
   "cell_type": "markdown",
   "id": "34650fc6",
   "metadata": {},
   "source": [
    "<br>"
   ]
  },
  {
   "cell_type": "markdown",
   "id": "958462c8",
   "metadata": {},
   "source": [
    "**When and Where arrays are used?**"
   ]
  },
  {
   "cell_type": "markdown",
   "id": "c7003452",
   "metadata": {},
   "source": [
    "1. Storing and accessing sequential data.<br>\n",
    "2. Temporarily stroing objects<br>\n",
    "3. Used by IO Routines as buffers<br>\n",
    "4. lookup tables and inverse lookup tables<br>\n",
    "5. can be used a cache the results<br>\n",
    "6. can be used to return multiple values from function"
   ]
  },
  {
   "cell_type": "markdown",
   "id": "2e7d1d02",
   "metadata": {},
   "source": [
    "<br>"
   ]
  },
  {
   "cell_type": "markdown",
   "id": "e66618c7",
   "metadata": {},
   "source": [
    "**Time Complexity of Array Operations**"
   ]
  },
  {
   "cell_type": "markdown",
   "id": "b0a6f3b9",
   "metadata": {},
   "source": [
    "**1. Access**"
   ]
  },
  {
   "cell_type": "markdown",
   "id": "f396334d",
   "metadata": {},
   "source": [
    "Time complexity of accessing elements in an array is O (1)."
   ]
  },
  {
   "cell_type": "markdown",
   "id": "b0f04236",
   "metadata": {},
   "source": [
    "Let say we have an integer array of size 5.<br>\n",
    "EX:<br>\n",
    "int num_arr [] = new int [5];"
   ]
  },
  {
   "cell_type": "markdown",
   "id": "2fd17cac",
   "metadata": {},
   "source": [
    "Now look at memory allocation for this array in computer.<br>\n",
    "\n",
    "\n",
    "|INDEX|\t0\t|1|\t2|\t3|\t4|\n",
    "| --- | --- | --- | --- | --- | --- |\n",
    "|TYPE|\tInt|Int|Int|Int|Int|\n",
    "|VALUE|\t1|3|5|7|9|"
   ]
  },
  {
   "cell_type": "markdown",
   "id": "f05f74a9",
   "metadata": {},
   "source": [
    "Now if we want to get the element at index 4. <br>\n",
    "We know that array index will start at 0. So, to get element at ‘X’ index we need to add 0+x. So, to get element at 4th index we just add 0+4. Similarly, we want to get element at index 100 then simply add start_index (0) +100.<br>\n",
    "No matter how large/big the index number is. It’s just takes only one addition operation to get the element at given index location.<br>\n",
    "Res = num_arr [4]."
   ]
  },
  {
   "cell_type": "markdown",
   "id": "2cef145c",
   "metadata": {},
   "source": [
    "<br>"
   ]
  },
  {
   "cell_type": "markdown",
   "id": "90539ae4",
   "metadata": {},
   "source": [
    "**2. Search**"
   ]
  },
  {
   "cell_type": "markdown",
   "id": "b2c249bf",
   "metadata": {},
   "source": [
    "Time complexity for searching an element in an array is O(n)."
   ]
  },
  {
   "cell_type": "markdown",
   "id": "612b72bd",
   "metadata": {},
   "source": [
    "Let say we have an integer array of size 5.<br>\n",
    "EX:<br>\n",
    "int num_arr [] = new int [5];"
   ]
  },
  {
   "cell_type": "markdown",
   "id": "36bcdbb4",
   "metadata": {},
   "source": [
    "Now look at memory allocation for this array in computer.<br>\n",
    "\n",
    "|INDEX|\t0\t|1|\t2|\t3|\t4|\n",
    "| --- | --- | --- | --- | --- | --- |\n",
    "|TYPE|\tInt|Int|Int|Int|Int|\n",
    "|VALUE|\t1|3|5|7|9|"
   ]
  },
  {
   "cell_type": "markdown",
   "id": "ec6ab27e",
   "metadata": {},
   "source": [
    "Let say we are searching for the element 1 in the array. In this case we find it at 1st position so O (1) but in Big-O we always interested to look at worst case scenario.<br>\n",
    "Let say the element we are searching for is 9. This is at the end of the array. In this case it is O(n) time complexity.<br>\n",
    "So, finally searching through an array is O(n)."
   ]
  },
  {
   "cell_type": "markdown",
   "id": "c1322e45",
   "metadata": {},
   "source": [
    "<br>"
   ]
  },
  {
   "cell_type": "markdown",
   "id": "84ff8679",
   "metadata": {},
   "source": [
    "**3. Insertion**"
   ]
  },
  {
   "cell_type": "markdown",
   "id": "72ed0393",
   "metadata": {},
   "source": [
    "Insertion operaion will not apply for static arrays as their size is fixed."
   ]
  },
  {
   "cell_type": "markdown",
   "id": "7bd522f7",
   "metadata": {},
   "source": [
    "Time complexity of inserting an element in an array is O (n)."
   ]
  },
  {
   "cell_type": "markdown",
   "id": "4170e06d",
   "metadata": {},
   "source": [
    "Let say we have an integer array of size 5.<br>\n",
    "EX:<br>\n",
    "int num_arr [] = new int [5];"
   ]
  },
  {
   "cell_type": "markdown",
   "id": "da7c9497",
   "metadata": {},
   "source": [
    "Now look at memory allocation for this array in computer.<br>\n",
    "\n",
    "|INDEX|\t0\t|1|\t2|\t3|\t4|\n",
    "| --- | --- | --- | --- | --- | --- |\n",
    "|TYPE|\tInt|Int|Int|Int|Int|\n",
    "|VALUE|\t1|3|5|7| |"
   ]
  },
  {
   "cell_type": "markdown",
   "id": "1809a47d",
   "metadata": {},
   "source": [
    "Let’s say we want to insert an element into the array at index 2. So, we need to shift all indexes to one position next and make index 2 empty then we insert the value.<br>\n",
    "In worst case we want to insert new element at index 0 then we need to shift all indexes to one position next. So, the time complexity is O(n)."
   ]
  },
  {
   "cell_type": "markdown",
   "id": "51b6faa8",
   "metadata": {},
   "source": [
    "<br>"
   ]
  },
  {
   "cell_type": "markdown",
   "id": "f3ca8534",
   "metadata": {},
   "source": [
    "**4. Appending**"
   ]
  },
  {
   "cell_type": "markdown",
   "id": "e5821a1f",
   "metadata": {},
   "source": [
    "Appending operation will not apply for static array as their size is fixed."
   ]
  },
  {
   "cell_type": "markdown",
   "id": "a506f014",
   "metadata": {},
   "source": [
    "Time complexity of appending an element in an array is O (1), because the new element will always be appended at last of the array."
   ]
  },
  {
   "cell_type": "markdown",
   "id": "18242c9f",
   "metadata": {},
   "source": [
    "<br>"
   ]
  },
  {
   "cell_type": "markdown",
   "id": "c427f0d3",
   "metadata": {},
   "source": [
    "**5. Deleting**"
   ]
  },
  {
   "cell_type": "markdown",
   "id": "f89568f0",
   "metadata": {},
   "source": [
    "Deleting operation will not apply for static array as their size is fixed."
   ]
  },
  {
   "cell_type": "markdown",
   "id": "1ebb91c1",
   "metadata": {},
   "source": [
    "Time complexity of deleting an element in an array is O (n)."
   ]
  },
  {
   "cell_type": "markdown",
   "id": "6816fce5",
   "metadata": {},
   "source": [
    "Let say we have an integer array of size 5.<br>\n",
    "EX:<br>\n",
    "int num_arr [] = new int [5];"
   ]
  },
  {
   "cell_type": "markdown",
   "id": "79cfa689",
   "metadata": {},
   "source": [
    "Now look at memory allocation for this array in computer.<br>\n",
    "\n",
    "|INDEX|\t0\t|1|\t2|\t3|\t4|\n",
    "| --- | --- | --- | --- | --- | --- |\n",
    "|TYPE|\tInt|Int|Int|Int|Int|\n",
    "|VALUE|\t1|3|5|7| |"
   ]
  },
  {
   "cell_type": "markdown",
   "id": "cc4c186a",
   "metadata": {},
   "source": [
    "Let say we want to remove the element 5.  So, we will shift all the indexes down to one.<br>\n",
    "\tnum_arr [2] = num_arr [3]<br>\n",
    "\tnum_arr [3] = num_arr [4]<br>\n",
    "\tnum_arr [4] = null<br>"
   ]
  },
  {
   "cell_type": "markdown",
   "id": "ea5facdc",
   "metadata": {},
   "source": [
    "In this case we shifted only 3 indexes. Let’s see about worst case scenario deleting element at index 0. Then we need to shift all indexes down to one.<br>\n",
    "So, the time complexity is O(n)."
   ]
  },
  {
   "cell_type": "markdown",
   "id": "6034f8be",
   "metadata": {},
   "source": [
    "<br>"
   ]
  },
  {
   "cell_type": "markdown",
   "id": "740defa5",
   "metadata": {},
   "source": [
    "**Report of Array**<br>\n",
    "\n",
    "|\t|Accessing|\tSearching|\tInserting|Appending|Deleting|\n",
    "| --- | --- | --- | --- | --- | --- |\n",
    "|Time complexity|\tO (1)|\tO(n)|\tO(n)| O(1)|O(n)|\n"
   ]
  },
  {
   "cell_type": "markdown",
   "id": "ecb6c352",
   "metadata": {},
   "source": [
    "|Pros|\tCons|\n",
    "| --- | --- |\n",
    "|Good for similar contiguous data\t| Size can’t be changed once initialized.|\n",
    "|Efficient for accessing elements with constant time complexity. | Not efficient for searching, inserting and deleting.|\n",
    "|Easy to learn\t| Can be wasting storage space. If we initialized array with size 10 but we stored only 7 elements then remaining 3 allocated memory locations are waste.|\n"
   ]
  },
  {
   "cell_type": "code",
   "execution_count": null,
   "id": "9f922df4",
   "metadata": {},
   "outputs": [],
   "source": []
  }
 ],
 "metadata": {
  "kernelspec": {
   "display_name": "Python 3",
   "language": "python",
   "name": "python3"
  },
  "language_info": {
   "codemirror_mode": {
    "name": "ipython",
    "version": 3
   },
   "file_extension": ".py",
   "mimetype": "text/x-python",
   "name": "python",
   "nbconvert_exporter": "python",
   "pygments_lexer": "ipython3",
   "version": "3.6.5"
  }
 },
 "nbformat": 4,
 "nbformat_minor": 5
}
